{
 "cells": [
  {
   "cell_type": "code",
   "execution_count": 6,
   "id": "c209c751",
   "metadata": {},
   "outputs": [
    {
     "name": "stdout",
     "output_type": "stream",
     "text": [
      "1530482360491331587\n",
      "1530504156481454080\n",
      "1530504157442068483\n",
      "1530504158091956224\n",
      "1530504162634412032\n",
      "1530504162651217920\n",
      "1530504164265951233\n",
      "1530564556547928064\n",
      "1530568029008011266\n",
      "1530621345503002626\n",
      "1533081597913841665\n",
      "1533093912444821504\n",
      "1533101274014666752\n",
      "1533101274270294016\n",
      "1533101274564120577\n",
      "1533101274975068162\n",
      "1533101276518440963\n",
      "1533161665742524416\n",
      "1533161670813573123\n",
      "1533161671753187329\n"
     ]
    }
   ],
   "source": [
    "from pathlib import Path\n",
    "\n",
    "root = \"C:\\\\Users\\\\samca\\\\Documents\\\\Python Projects\\\\twiff\\\\docker\\\\search\\\\output\\\\tweets\"\n",
    "\n",
    "for p in Path(root).glob(\"*.json\"):\n",
    "    print(p.name.split('.')[0])"
   ]
  },
  {
   "cell_type": "code",
   "execution_count": 5,
   "id": "bdd78a2f",
   "metadata": {},
   "outputs": [
    {
     "data": {
      "text/plain": [
       "True"
      ]
     },
     "execution_count": 5,
     "metadata": {},
     "output_type": "execute_result"
    }
   ],
   "source": [
    "Path(root).exists()"
   ]
  },
  {
   "cell_type": "code",
   "execution_count": null,
   "id": "9be10872",
   "metadata": {},
   "outputs": [],
   "source": []
  }
 ],
 "metadata": {
  "kernelspec": {
   "display_name": "Python 3 (ipykernel)",
   "language": "python",
   "name": "python3"
  },
  "language_info": {
   "codemirror_mode": {
    "name": "ipython",
    "version": 3
   },
   "file_extension": ".py",
   "mimetype": "text/x-python",
   "name": "python",
   "nbconvert_exporter": "python",
   "pygments_lexer": "ipython3",
   "version": "3.9.7"
  }
 },
 "nbformat": 4,
 "nbformat_minor": 5
}
