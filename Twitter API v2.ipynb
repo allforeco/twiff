{
 "cells": [
  {
   "cell_type": "code",
   "execution_count": 1,
   "id": "9d10e488",
   "metadata": {},
   "outputs": [],
   "source": [
    "%run search.py"
   ]
  },
  {
   "cell_type": "code",
   "execution_count": null,
   "id": "a99f8314",
   "metadata": {},
   "outputs": [],
   "source": [
    "results = Results()\n",
    "results._load('export')"
   ]
  },
  {
   "cell_type": "code",
   "execution_count": null,
   "id": "15714808",
   "metadata": {},
   "outputs": [],
   "source": [
    "for tweet in results.tweets.values():\n",
    "    print(tweet.id)"
   ]
  },
  {
   "cell_type": "code",
   "execution_count": null,
   "id": "190c9d7f",
   "metadata": {},
   "outputs": [],
   "source": []
  }
 ],
 "metadata": {
  "kernelspec": {
   "display_name": "Python 3 (ipykernel)",
   "language": "python",
   "name": "python3"
  },
  "language_info": {
   "codemirror_mode": {
    "name": "ipython",
    "version": 3
   },
   "file_extension": ".py",
   "mimetype": "text/x-python",
   "name": "python",
   "nbconvert_exporter": "python",
   "pygments_lexer": "ipython3",
   "version": "3.9.7"
  }
 },
 "nbformat": 4,
 "nbformat_minor": 5
}
