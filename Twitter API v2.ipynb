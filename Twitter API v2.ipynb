{
 "cells": [
  {
   "cell_type": "code",
   "execution_count": null,
   "id": "c6f2618d",
   "metadata": {},
   "outputs": [],
   "source": [
    "import os\n",
    "import shutil\n",
    "\n",
    "try:\n",
    "    os.remove(os.path.join(os.getcwd(), 'cursor.json'))\n",
    "except:\n",
    "    print('Failed to remove cursor.')\n",
    "    \n",
    "try:\n",
    "    shutil.rmtree(os.path.join(os.getcwd(), 'exports'))\n",
    "except:\n",
    "    print('Failed to remove exports.')\n",
    "    \n",
    "try:\n",
    "    shutil.rmtree(os.path.join(os.getcwd(), 'logs'))\n",
    "except:\n",
    "    print('Failed to remove logs.')"
   ]
  },
  {
   "cell_type": "code",
   "execution_count": null,
   "id": "ece8d683",
   "metadata": {},
   "outputs": [],
   "source": [
    "# cd \"C:\\Users\\samca\\Documents\\Python Projects\\twiff\"\n",
    "# python search.py --key_path sam_keys.json"
   ]
  },
  {
   "cell_type": "code",
   "execution_count": null,
   "id": "6bc1c217",
   "metadata": {},
   "outputs": [],
   "source": [
    "results = Results()\n",
    "results._load('exports')"
   ]
  },
  {
   "cell_type": "code",
   "execution_count": null,
   "id": "69930878",
   "metadata": {},
   "outputs": [],
   "source": [
    "for tweet in results.tweets.values():\n",
    "    print(tweet.id)"
   ]
  },
  {
   "cell_type": "code",
   "execution_count": null,
   "id": "fa287c68",
   "metadata": {},
   "outputs": [],
   "source": [
    "# API keys\n",
    "keys = Keys('keys.json')\n",
    "\n",
    "# Initialise tweepy client\n",
    "client = tweepy.Client(keys.bearer_token, \n",
    "                       keys.api_key, keys.api_key_secret, \n",
    "                       keys.access_token, keys.access_token_secret,\n",
    "                       return_type=dict, wait_on_rate_limit=True\n",
    "                      )"
   ]
  },
  {
   "cell_type": "code",
   "execution_count": null,
   "id": "b58010f6",
   "metadata": {},
   "outputs": [],
   "source": [
    "client.like(tweet._id())"
   ]
  },
  {
   "cell_type": "code",
   "execution_count": null,
   "id": "281ab19b",
   "metadata": {},
   "outputs": [],
   "source": []
  }
 ],
 "metadata": {
  "kernelspec": {
   "display_name": "Python 3 (ipykernel)",
   "language": "python",
   "name": "python3"
  },
  "language_info": {
   "codemirror_mode": {
    "name": "ipython",
    "version": 3
   },
   "file_extension": ".py",
   "mimetype": "text/x-python",
   "name": "python",
   "nbconvert_exporter": "python",
   "pygments_lexer": "ipython3",
   "version": "3.9.7"
  }
 },
 "nbformat": 4,
 "nbformat_minor": 5
}
